{
 "cells": [
  {
   "cell_type": "markdown",
   "metadata": {},
   "source": [
    "# 파이썬 프로그래밍 기초 실습 3"
   ]
  },
  {
   "cell_type": "markdown",
   "metadata": {},
   "source": [
    "## 1. 딕셔너리(Dictionary)"
   ]
  },
  {
   "cell_type": "markdown",
   "metadata": {},
   "source": [
    " ### ex_01"
   ]
  },
  {
   "cell_type": "code",
   "execution_count": 6,
   "metadata": {},
   "outputs": [
    {
     "name": "stdout",
     "output_type": "stream",
     "text": [
      "1 2 10 "
     ]
    }
   ],
   "source": [
    "d = {'youn': 1, 'park': 2, 'kim': 10}\n",
    "\n",
    "for val in d.values():\n",
    "    print(val, end=(' '))"
   ]
  },
  {
   "cell_type": "code",
   "execution_count": 9,
   "metadata": {},
   "outputs": [
    {
     "name": "stdout",
     "output_type": "stream",
     "text": [
      "1 2 10 "
     ]
    }
   ],
   "source": [
    "d = {'youn': 1, 'park': 2, 'kim': 10}\n",
    "\n",
    "for key in d:\n",
    "    print(d[key], end=(' '))"
   ]
  },
  {
   "cell_type": "code",
   "execution_count": 10,
   "metadata": {},
   "outputs": [
    {
     "name": "stdout",
     "output_type": "stream",
     "text": [
      "1 2 10 "
     ]
    }
   ],
   "source": [
    "d = {'youn': 1, 'park': 2, 'kim': 10}\n",
    "\n",
    "for key, val in d.items():\n",
    "    print(val, end=(' '))"
   ]
  },
  {
   "cell_type": "markdown",
   "metadata": {},
   "source": [
    "### ex_02"
   ]
  },
  {
   "cell_type": "code",
   "execution_count": 62,
   "metadata": {},
   "outputs": [
    {
     "name": "stdout",
     "output_type": "stream",
     "text": [
      "five 5\n",
      "four 4\n",
      "one 1\n",
      "three 3\n",
      "two 2\n"
     ]
    }
   ],
   "source": [
    "# import collections\n",
    "d = { 'one':1, 'two':2, 'three':3, 'four':4, 'five':5}\n",
    "\n",
    "# tmp = collections.OrderedDict(sorted(d.items()))\n",
    "# for key, val in tmp.items():\n",
    "#     print(key, val)\n",
    "\n",
    "tmp = list(d.keys())\n",
    "tmp.sort()\n",
    "for key in tmp:\n",
    "    print(key, d[key])\n",
    "\n"
   ]
  },
  {
   "cell_type": "markdown",
   "metadata": {},
   "source": [
    "### ex_03"
   ]
  },
  {
   "cell_type": "code",
   "execution_count": 48,
   "metadata": {},
   "outputs": [
    {
     "name": "stdout",
     "output_type": "stream",
     "text": [
      "Enter a sentence : Python is fun?\n",
      "{'P': 1, 'y': 1, 't': 1, 'h': 1, 'o': 1, 'n': 2, ' ': 2, 'i': 1, 's': 1, 'f': 1, 'u': 1, '?': 1}\n"
     ]
    }
   ],
   "source": [
    "word = input('Enter a sentence : ')\n",
    "\n",
    "word_list = list(word)\n",
    "word_list\n",
    "d = {}\n",
    "count = 0\n",
    "\n",
    "for x in word_list:\n",
    "    if x in d:\n",
    "        d[x] += 1\n",
    "    else:\n",
    "        d[x] = 1\n",
    "print(d)"
   ]
  },
  {
   "cell_type": "code",
   "execution_count": null,
   "metadata": {},
   "outputs": [],
   "source": []
  }
 ],
 "metadata": {
  "kernelspec": {
   "display_name": "Python 3",
   "language": "python",
   "name": "python3"
  },
  "language_info": {
   "codemirror_mode": {
    "name": "ipython",
    "version": 3
   },
   "file_extension": ".py",
   "mimetype": "text/x-python",
   "name": "python",
   "nbconvert_exporter": "python",
   "pygments_lexer": "ipython3",
   "version": "3.7.3"
  }
 },
 "nbformat": 4,
 "nbformat_minor": 2
}
