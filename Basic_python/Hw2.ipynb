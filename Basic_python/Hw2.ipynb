{
 "cells": [
  {
   "cell_type": "markdown",
   "metadata": {},
   "source": [
    "# 실습 1-2\n",
    "\n"
   ]
  },
  {
   "cell_type": "markdown",
   "metadata": {},
   "source": [
    "## Q4"
   ]
  },
  {
   "cell_type": "code",
   "execution_count": 114,
   "metadata": {},
   "outputs": [
    {
     "name": "stdout",
     "output_type": "stream",
     "text": [
      "한 문장을 입력하시오: Python is fun!\n",
      "['P', 'y', 't', 'h', 'o', 'n', ',', 'i', 's', ',', 'f', 'u', 'n', '!']\n"
     ]
    }
   ],
   "source": [
    "sentence = input('한 문장을 입력하시오: ').split()\n",
    "a = ','\n",
    "b = a.join(sentence)\n",
    "\n",
    "print(list(b))"
   ]
  },
  {
   "cell_type": "markdown",
   "metadata": {},
   "source": [
    "## Q5"
   ]
  },
  {
   "cell_type": "code",
   "execution_count": 110,
   "metadata": {},
   "outputs": [
    {
     "name": "stdout",
     "output_type": "stream",
     "text": [
      "Enter tow integers: 8 5\n",
      "8 + 5 = 13\n",
      "8 + 5 = 3\n",
      "8 + 5 = 40\n",
      "8 + 5 = 1.6\n",
      "8 + 5 = 3\n"
     ]
    }
   ],
   "source": [
    "numbers = input('Enter tow integers: ').split()\n",
    "num1, num2 = list(map(int, numbers))\n",
    "\n",
    "print('{} + {} = {}'.format(num1, num2, num1 + num2))\n",
    "print('{} + {} = {}'.format(num1, num2, num1 - num2))\n",
    "print('{} + {} = {}'.format(num1, num2, num1 * num2))\n",
    "print('{} + {} = {}'.format(num1, num2, num1 / num2))\n",
    "print('{} + {} = {}'.format(num1, num2, num1 % num2))"
   ]
  },
  {
   "cell_type": "markdown",
   "metadata": {},
   "source": [
    "## Q6"
   ]
  },
  {
   "cell_type": "code",
   "execution_count": 112,
   "metadata": {},
   "outputs": [
    {
     "name": "stdout",
     "output_type": "stream",
     "text": [
      "Enter tow integers: 70 91\n",
      "The sum of 70 and 91 is 161\n",
      "The average of 70 and 91 is 80.5\n"
     ]
    }
   ],
   "source": [
    "numbers = input('Enter tow integers: ').split()\n",
    "num1, num2 = list(map(int, numbers))\n",
    "\n",
    "print('The sum of {} and {} is {}'.format(num1, num2, num1 + num2))\n",
    "print('The average of {} and {} is {}'.format(num1, num2, (num1 + num2)/2))"
   ]
  },
  {
   "cell_type": "markdown",
   "metadata": {},
   "source": [
    "## Q7"
   ]
  },
  {
   "cell_type": "code",
   "execution_count": 113,
   "metadata": {},
   "outputs": [
    {
     "name": "stdout",
     "output_type": "stream",
     "text": [
      "날짜(연/월/일)입력:2019/04/8\n",
      "입력한날짜의 10년 후는 2029년 4월 8일\n"
     ]
    }
   ],
   "source": [
    "ymd = input(\"날짜(연/월/일)입력:\").split('/')\n",
    "ymd = list(map(int, ymd))\n",
    "\n",
    "print('입력한날짜의 10년 후는 {}년 {}월 {}일'.format(ymd[0]+10, ymd[1], ymd[2]))\n"
   ]
  },
  {
   "cell_type": "markdown",
   "metadata": {},
   "source": [
    "---"
   ]
  },
  {
   "cell_type": "markdown",
   "metadata": {},
   "source": [
    "# 실습 2"
   ]
  },
  {
   "cell_type": "markdown",
   "metadata": {},
   "source": [
    "   ## 1. 조건문"
   ]
  },
  {
   "cell_type": "markdown",
   "metadata": {},
   "source": [
    "### Q1"
   ]
  },
  {
   "cell_type": "code",
   "execution_count": 8,
   "metadata": {},
   "outputs": [
    {
     "name": "stdout",
     "output_type": "stream",
     "text": [
      "Enter a number : 1\n",
      "1 is Odd number\n"
     ]
    }
   ],
   "source": [
    "number = int(input('Enter a number : '))\n",
    "if(number == 1):\n",
    "    print('{} is Odd number'.format(number))\n",
    "elif(number % 2 == 0):\n",
    "    print('{} is Even number'.format(number))\n",
    "elif(number % 3 == 0):\n",
    "    print('{} is Odd number'.format(number))\n",
    "else:\n",
    "    print('please enter int number')\n"
   ]
  },
  {
   "cell_type": "markdown",
   "metadata": {},
   "source": [
    "### Q2\n"
   ]
  },
  {
   "cell_type": "code",
   "execution_count": 9,
   "metadata": {
    "scrolled": true
   },
   "outputs": [
    {
     "name": "stdout",
     "output_type": "stream",
     "text": [
      "Enter your midterm score: 77\n",
      "Enter your final score: 56\n",
      "Average: 66.5 \n",
      " Grade: D\n"
     ]
    }
   ],
   "source": [
    "midterm = int(input('Enter your midterm score: '))\n",
    "final = int(input('Enter your final score: '))\n",
    "avg = (midterm + final) / 2\n",
    "gpa = ['A', 'B', 'C', 'D', 'F']\n",
    "\n",
    "if(avg >= 90):\n",
    "    print('Average: {} \\n Grade: {}'.format(avg, gpa[0]))\n",
    "elif(avg >= 80 and avg < 90):\n",
    "    print('Average: {} \\n Grade: {}'.format(avg, gpa[1]))\n",
    "elif(avg >= 70 and avg < 80):\n",
    "    print('Average: {} \\n Grade: {}'.format(avg, gpa[2]))\n",
    "elif(avg >= 60 and avg < 70):\n",
    "    print('Average: {} \\n Grade: {}'.format(avg, gpa[3]))\n",
    "else:\n",
    "    print('Average: {} \\n Grade: {}'.format(avg, gpa[4]))"
   ]
  },
  {
   "cell_type": "markdown",
   "metadata": {},
   "source": [
    "### Q3 "
   ]
  },
  {
   "cell_type": "code",
   "execution_count": null,
   "metadata": {},
   "outputs": [],
   "source": [
    "eng = int(input('영어점수 입력: '))\n",
    "math = int(input('수학점수 입력: '))\n",
    "\n",
    "\n",
    "if(math + eng >= 110 and math >= 40 and eng >= 40):\n",
    "    print(\"합격\")\n",
    "elif (math + eng < 110):\n",
    "    print(\"불합격: 총합점수 부족\")\n",
    "elif(math < 40):\n",
    "    print(\"불합격: 수학점수 부족\")\n",
    "elif(eng < 40):\n",
    "    print(\"불합격: 영어점수 부족\")\n"
   ]
  },
  {
   "cell_type": "markdown",
   "metadata": {},
   "source": [
    "### Q4"
   ]
  },
  {
   "cell_type": "code",
   "execution_count": 95,
   "metadata": {},
   "outputs": [
    {
     "name": "stdout",
     "output_type": "stream",
     "text": [
      "세 개의 정수를 입력하시오: 3 5 7\n",
      "[3, 5, 7]\n",
      "7\n"
     ]
    }
   ],
   "source": [
    "nums = input('세 개의 정수를 입력하시오: ').split()\n",
    "sample = list(map(int, nums))\n",
    "\n",
    "n = 0\n",
    "big = sample[0]\n",
    "\n",
    "while n < len(sample):\n",
    "    if(big < sample[n]):\n",
    "        big = sample[n]\n",
    "    \n",
    "    n += 1\n",
    "    \n",
    "print(big)\n",
    "\n"
   ]
  },
  {
   "cell_type": "markdown",
   "metadata": {},
   "source": [
    "## 2. 반복문"
   ]
  },
  {
   "cell_type": "markdown",
   "metadata": {},
   "source": [
    "### Q5 - 1"
   ]
  },
  {
   "cell_type": "code",
   "execution_count": 29,
   "metadata": {},
   "outputs": [
    {
     "name": "stdout",
     "output_type": "stream",
     "text": [
      "P\n",
      "y\n",
      "t\n",
      "h\n",
      "o\n",
      "n\n"
     ]
    }
   ],
   "source": [
    "word = 'Python'\n",
    "idx = 0\n",
    "while idx < len(word):\n",
    "    print(word[idx])\n",
    "    idx += 1"
   ]
  },
  {
   "cell_type": "markdown",
   "metadata": {},
   "source": [
    "### Q5-2"
   ]
  },
  {
   "cell_type": "code",
   "execution_count": 30,
   "metadata": {},
   "outputs": [
    {
     "name": "stdout",
     "output_type": "stream",
     "text": [
      "P\n",
      "y\n",
      "t\n",
      "h\n",
      "o\n",
      "n\n"
     ]
    }
   ],
   "source": [
    "word = 'Python'\n",
    "for x in word:\n",
    "    print(x)"
   ]
  },
  {
   "cell_type": "markdown",
   "metadata": {},
   "source": [
    "### Q6"
   ]
  },
  {
   "cell_type": "code",
   "execution_count": 35,
   "metadata": {},
   "outputs": [
    {
     "name": "stdout",
     "output_type": "stream",
     "text": [
      "10,9,8,7,6,5,4,3,2,1,Happy New year!!\n"
     ]
    }
   ],
   "source": [
    "for x in range(10,0,-1):\n",
    "    print(x,end=(','))\n",
    "    if(x <= 1):\n",
    "        print('Happy New year!!')\n",
    "    "
   ]
  },
  {
   "cell_type": "markdown",
   "metadata": {},
   "source": [
    "### Q7"
   ]
  },
  {
   "cell_type": "code",
   "execution_count": 52,
   "metadata": {},
   "outputs": [
    {
     "name": "stdout",
     "output_type": "stream",
     "text": [
      "Enter tow integers: 10 5\n",
      "num1 < num2 please enter again\n"
     ]
    }
   ],
   "source": [
    "nums = input('Enter tow integers: ').split(' ')\n",
    "num1, num2 = int(nums[0]), int(nums[1])\n",
    "res = 0\n",
    "\n",
    "if(num1 <= num2):\n",
    "        for x in range(num1, num2 + 1):\n",
    "            res += x\n",
    "        print('The sum from {} to {} is {}'.format(num1, num2, res))\n",
    "else:\n",
    "    print('first element is smaller than second')\n"
   ]
  },
  {
   "cell_type": "markdown",
   "metadata": {},
   "source": [
    "### Q8"
   ]
  },
  {
   "cell_type": "code",
   "execution_count": 54,
   "metadata": {},
   "outputs": [
    {
     "name": "stdout",
     "output_type": "stream",
     "text": [
      "3\n"
     ]
    }
   ],
   "source": [
    "word = 'banana'\n",
    "count = 0\n",
    "\n",
    "for x in word:\n",
    "    if(x == 'a'):\n",
    "        count += 1\n",
    "print(count)\n",
    "        "
   ]
  },
  {
   "cell_type": "markdown",
   "metadata": {},
   "source": [
    "### Q 9"
   ]
  },
  {
   "cell_type": "code",
   "execution_count": 61,
   "metadata": {},
   "outputs": [
    {
     "name": "stdout",
     "output_type": "stream",
     "text": [
      "0 1 2 3 4 5 6 7 8 9 \n",
      "\n",
      "0 5 10 15 20 25 30 35 40 45 50 \n",
      "\n",
      "10 9 8 7 6 5 4 3 2 1 \n",
      "\n"
     ]
    }
   ],
   "source": [
    "for x in range(0, 10):\n",
    "    print(x, end=(' '))\n",
    "print('\\n')\n",
    "for x in range(0, 51, 5):\n",
    "    print(x, end=(' '))\n",
    "print('\\n')\n",
    "for x in range(10, 0, -1):\n",
    "    print(x, end=(' '))\n",
    "print('\\n')\n",
    "\n",
    "    "
   ]
  },
  {
   "cell_type": "markdown",
   "metadata": {},
   "source": [
    "### Q10"
   ]
  },
  {
   "cell_type": "code",
   "execution_count": 63,
   "metadata": {},
   "outputs": [
    {
     "name": "stdout",
     "output_type": "stream",
     "text": [
      "red\n",
      "green\n",
      "blue\n"
     ]
    }
   ],
   "source": [
    "colors = ['red', 'green', 'blue']\n",
    "\n",
    "for x in colors:\n",
    "    print(x)"
   ]
  },
  {
   "cell_type": "markdown",
   "metadata": {},
   "source": [
    "### Q11"
   ]
  },
  {
   "cell_type": "code",
   "execution_count": 66,
   "metadata": {},
   "outputs": [
    {
     "name": "stdout",
     "output_type": "stream",
     "text": [
      "4,6,8,10,12,"
     ]
    }
   ],
   "source": [
    "a = [1, 3, 4, 5, 6, 7,8,9,10,11,12,13]\n",
    "for x in a:\n",
    "    if(x % 2 == 0):\n",
    "        print(x, end=(','))"
   ]
  },
  {
   "cell_type": "markdown",
   "metadata": {},
   "source": [
    "### Q12"
   ]
  },
  {
   "cell_type": "code",
   "execution_count": 67,
   "metadata": {},
   "outputs": [
    {
     "name": "stdout",
     "output_type": "stream",
     "text": [
      "input : 7\n",
      "7 x 1 = 7\n",
      "7 x 2 = 14\n",
      "7 x 3 = 21\n",
      "7 x 4 = 28\n",
      "7 x 5 = 35\n",
      "7 x 6 = 42\n",
      "7 x 7 = 49\n",
      "7 x 8 = 56\n",
      "7 x 9 = 63\n"
     ]
    }
   ],
   "source": [
    "data = int(input(\"input : \"))\n",
    "x = data\n",
    "for y in range(1, 10):\n",
    "    print('{} x {} = {}'.format(x, y, x * y))\n"
   ]
  },
  {
   "cell_type": "markdown",
   "metadata": {},
   "source": [
    "### Q13"
   ]
  },
  {
   "cell_type": "code",
   "execution_count": 70,
   "metadata": {
    "scrolled": true
   },
   "outputs": [
    {
     "name": "stdout",
     "output_type": "stream",
     "text": [
      "==2단==\n",
      "2 * 1 = 2\n",
      "2 * 2 = 4\n",
      "2 * 3 = 6\n",
      "2 * 4 = 8\n",
      "2 * 5 = 10\n",
      "2 * 6 = 12\n",
      "2 * 7 = 14\n",
      "2 * 8 = 16\n",
      "2 * 9 = 18\n",
      "==3단==\n",
      "3 * 1 = 3\n",
      "3 * 2 = 6\n",
      "3 * 3 = 9\n",
      "3 * 4 = 12\n",
      "3 * 5 = 15\n",
      "3 * 6 = 18\n",
      "3 * 7 = 21\n",
      "3 * 8 = 24\n",
      "3 * 9 = 27\n",
      "==4단==\n",
      "4 * 1 = 4\n",
      "4 * 2 = 8\n",
      "4 * 3 = 12\n",
      "4 * 4 = 16\n",
      "4 * 5 = 20\n",
      "4 * 6 = 24\n",
      "4 * 7 = 28\n",
      "4 * 8 = 32\n",
      "4 * 9 = 36\n",
      "==5단==\n",
      "5 * 1 = 5\n",
      "5 * 2 = 10\n",
      "5 * 3 = 15\n",
      "5 * 4 = 20\n",
      "5 * 5 = 25\n",
      "5 * 6 = 30\n",
      "5 * 7 = 35\n",
      "5 * 8 = 40\n",
      "5 * 9 = 45\n",
      "==6단==\n",
      "6 * 1 = 6\n",
      "6 * 2 = 12\n",
      "6 * 3 = 18\n",
      "6 * 4 = 24\n",
      "6 * 5 = 30\n",
      "6 * 6 = 36\n",
      "6 * 7 = 42\n",
      "6 * 8 = 48\n",
      "6 * 9 = 54\n",
      "==7단==\n",
      "7 * 1 = 7\n",
      "7 * 2 = 14\n",
      "7 * 3 = 21\n",
      "7 * 4 = 28\n",
      "7 * 5 = 35\n",
      "7 * 6 = 42\n",
      "7 * 7 = 49\n",
      "7 * 8 = 56\n",
      "7 * 9 = 63\n",
      "==8단==\n",
      "8 * 1 = 8\n",
      "8 * 2 = 16\n",
      "8 * 3 = 24\n",
      "8 * 4 = 32\n",
      "8 * 5 = 40\n",
      "8 * 6 = 48\n",
      "8 * 7 = 56\n",
      "8 * 8 = 64\n",
      "8 * 9 = 72\n",
      "==9단==\n",
      "9 * 1 = 9\n",
      "9 * 2 = 18\n",
      "9 * 3 = 27\n",
      "9 * 4 = 36\n",
      "9 * 5 = 45\n",
      "9 * 6 = 54\n",
      "9 * 7 = 63\n",
      "9 * 8 = 72\n",
      "9 * 9 = 81\n"
     ]
    }
   ],
   "source": [
    "for x in range(2,10):\n",
    "    print('=={}단=='.format(x))\n",
    "    for y in range(1, 10):\n",
    "        print('{} * {} = {}'.format(x, y, x*y))"
   ]
  },
  {
   "cell_type": "markdown",
   "metadata": {},
   "source": [
    "### Q14"
   ]
  },
  {
   "cell_type": "code",
   "execution_count": 115,
   "metadata": {
    "scrolled": true
   },
   "outputs": [
    {
     "name": "stdout",
     "output_type": "stream",
     "text": [
      "2  * 1  = 2  3  * 1  = 3  4  * 1  = 4  5  * 1  = 5  6  * 1  = 6  7  * 1  = 7  8  * 1  = 8  9  * 1  = 9  \n",
      "\n",
      "2  * 2  = 4  3  * 2  = 6  4  * 2  = 8  5  * 2  = 10 6  * 2  = 12 7  * 2  = 14 8  * 2  = 16 9  * 2  = 18 \n",
      "\n",
      "2  * 3  = 6  3  * 3  = 9  4  * 3  = 12 5  * 3  = 15 6  * 3  = 18 7  * 3  = 21 8  * 3  = 24 9  * 3  = 27 \n",
      "\n",
      "2  * 4  = 8  3  * 4  = 12 4  * 4  = 16 5  * 4  = 20 6  * 4  = 24 7  * 4  = 28 8  * 4  = 32 9  * 4  = 36 \n",
      "\n",
      "2  * 5  = 10 3  * 5  = 15 4  * 5  = 20 5  * 5  = 25 6  * 5  = 30 7  * 5  = 35 8  * 5  = 40 9  * 5  = 45 \n",
      "\n",
      "2  * 6  = 12 3  * 6  = 18 4  * 6  = 24 5  * 6  = 30 6  * 6  = 36 7  * 6  = 42 8  * 6  = 48 9  * 6  = 54 \n",
      "\n",
      "2  * 7  = 14 3  * 7  = 21 4  * 7  = 28 5  * 7  = 35 6  * 7  = 42 7  * 7  = 49 8  * 7  = 56 9  * 7  = 63 \n",
      "\n",
      "2  * 8  = 16 3  * 8  = 24 4  * 8  = 32 5  * 8  = 40 6  * 8  = 48 7  * 8  = 56 8  * 8  = 64 9  * 8  = 72 \n",
      "\n",
      "2  * 9  = 18 3  * 9  = 27 4  * 9  = 36 5  * 9  = 45 6  * 9  = 54 7  * 9  = 63 8  * 9  = 72 9  * 9  = 81 \n",
      "\n"
     ]
    }
   ],
   "source": [
    "for x in range(1, 10):\n",
    "    for y in range(2, 10):\n",
    "        print('{:^2} * {:^2} = {:^2}'.format(y, x, x*y), end=(' '))\n",
    "    print('\\n')\n",
    "        "
   ]
  },
  {
   "cell_type": "markdown",
   "metadata": {},
   "source": [
    "### Q15"
   ]
  },
  {
   "cell_type": "code",
   "execution_count": 80,
   "metadata": {},
   "outputs": [
    {
     "name": "stdout",
     "output_type": "stream",
     "text": [
      "word 1 sally\n",
      "word 2 goes\n",
      "word 3 to\n",
      "word 4 the\n",
      "word 5 store\n"
     ]
    }
   ],
   "source": [
    "sentence = 'sally goes to the store'\n",
    "word = sentence.split(' ')\n",
    "\n",
    "for x in range(0,len(word)):\n",
    "    print('word {} {}'.format(x + 1, word[x]))\n"
   ]
  },
  {
   "cell_type": "markdown",
   "metadata": {},
   "source": [
    "### Q16"
   ]
  },
  {
   "cell_type": "code",
   "execution_count": 125,
   "metadata": {},
   "outputs": [
    {
     "name": "stdout",
     "output_type": "stream",
     "text": [
      "Input an integer : 3728\n",
      "<class 'str'>\n",
      "***\n",
      "\n",
      "*******\n",
      "\n",
      "**\n",
      "\n",
      "********\n",
      "\n"
     ]
    }
   ],
   "source": [
    "star = input(\"Input an integer : \")\n",
    "print(type(star))\n",
    "y = 0\n",
    "for x in star:\n",
    "    for y in range(int(x)):\n",
    "        print('*', end=\"\")\n",
    "    print('\\n')"
   ]
  },
  {
   "cell_type": "code",
   "execution_count": 127,
   "metadata": {},
   "outputs": [
    {
     "name": "stdout",
     "output_type": "stream",
     "text": [
      "Input an integer :2345\n",
      "**\n",
      "***\n",
      "****\n",
      "*****\n"
     ]
    }
   ],
   "source": [
    "num = input(\"Input an integer :\")\n",
    "\n",
    "for ch in num:\n",
    "    print(\"*\" * int(ch))"
   ]
  },
  {
   "cell_type": "markdown",
   "metadata": {},
   "source": [
    "### Q17"
   ]
  },
  {
   "cell_type": "code",
   "execution_count": 128,
   "metadata": {},
   "outputs": [
    {
     "name": "stdout",
     "output_type": "stream",
     "text": [
      "Enter a number : 7\n",
      "Enter a number : 2\n",
      "Enter a number : 9\n",
      "Enter a number : 3\n",
      "Enter a number : 5\n",
      "Enter a number : done\n",
      "[7.0, 2.0, 9.0, 3.0, 5.0]\n",
      "Maximum: 5.2\n",
      "Maximum: 9.0\n",
      "Minimum: 2.0\n"
     ]
    }
   ],
   "source": [
    "l = list()\n",
    "while 1:\n",
    "    a = input('Enter a number : ')\n",
    "    if( a == 'done'):\n",
    "        break\n",
    "    else:\n",
    "        l.append(float(a))\n",
    "        \n",
    "\n",
    "# nl = list(map(float,l))\n",
    "print(l)\n",
    "print('Maximum: {}'.format(sum(l)/len(l)))\n",
    "print('Maximum: {}'.format(max(l)))\n",
    "print('Minimum: {}'.format(min(l)))\n",
    "        "
   ]
  },
  {
   "cell_type": "markdown",
   "metadata": {},
   "source": [
    "### Q18"
   ]
  },
  {
   "cell_type": "code",
   "execution_count": 129,
   "metadata": {},
   "outputs": [
    {
     "data": {
      "text/plain": [
       "[2019, 3, 25]"
      ]
     },
     "execution_count": 129,
     "metadata": {},
     "output_type": "execute_result"
    }
   ],
   "source": [
    "before = ['2019','3','25']\n",
    "after = list(map(int,before))\n",
    "after"
   ]
  },
  {
   "cell_type": "code",
   "execution_count": null,
   "metadata": {},
   "outputs": [],
   "source": []
  }
 ],
 "metadata": {
  "kernelspec": {
   "display_name": "Python 3",
   "language": "python",
   "name": "python3"
  },
  "language_info": {
   "codemirror_mode": {
    "name": "ipython",
    "version": 3
   },
   "file_extension": ".py",
   "mimetype": "text/x-python",
   "name": "python",
   "nbconvert_exporter": "python",
   "pygments_lexer": "ipython3",
   "version": "3.7.3"
  }
 },
 "nbformat": 4,
 "nbformat_minor": 2
}
