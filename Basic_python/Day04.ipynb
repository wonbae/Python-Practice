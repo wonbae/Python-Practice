{
 "cells": [
  {
   "cell_type": "code",
   "execution_count": 15,
   "metadata": {},
   "outputs": [
    {
     "name": "stdout",
     "output_type": "stream",
     "text": [
      "6 4 54\n"
     ]
    }
   ],
   "source": [
    "def hour_min_sec(second):\n",
    "    sec = second % 60\n",
    "    \n",
    "    small = second // 60\n",
    "    small = small % 12\n",
    "    \n",
    "    hour = second // 60\n",
    "    hour = hour // 12\n",
    "    hour = hour // 12\n",
    "    \n",
    "    return hour,small,sec\n",
    "    \n",
    "hour,small,sec = hour_min_sec(57894)\n",
    "print(hour, small, sec)"
   ]
  },
  {
   "cell_type": "markdown",
   "metadata": {},
   "source": [
    "- Mutable\n",
    "    - List, Dictionary\n",
    "    \n",
    "    \n",
    "- Immutable\n",
    "    - Tuple, String, Number"
   ]
  },
  {
   "cell_type": "markdown",
   "metadata": {},
   "source": [
    "### ex05"
   ]
  },
  {
   "cell_type": "code",
   "execution_count": 47,
   "metadata": {},
   "outputs": [
    {
     "name": "stdout",
     "output_type": "stream",
     "text": [
      "9\n",
      "1\n",
      "[3, 5, 2]\n"
     ]
    }
   ],
   "source": [
    "def get_min_max(i):\n",
    "    ma, mi = max(i),min(i)\n",
    "\n",
    "    i.remove(ma)\n",
    "    i.remove(mi)\n",
    "        \n",
    "    return ma,mi\n",
    "    \n",
    "i = [3,5,9,1,2]\n",
    "(min_val, max_val) = get_min_max(i)\n",
    "\n",
    "print(min_val)\n",
    "print(max_val)\n",
    "print(i)"
   ]
  },
  {
   "cell_type": "markdown",
   "metadata": {},
   "source": [
    "### ex06"
   ]
  },
  {
   "cell_type": "code",
   "execution_count": 49,
   "metadata": {},
   "outputs": [
    {
     "name": "stdout",
     "output_type": "stream",
     "text": [
      "15\n",
      "0\n",
      "3\n"
     ]
    }
   ],
   "source": [
    "def dot_product(v1, v2):\n",
    "    res = 0\n",
    "    for k in v1:\n",
    "        if k in v2:\n",
    "            res += v1[k] * v2[k]\n",
    "        else:\n",
    "            continue\n",
    "\n",
    "    return res\n",
    "\n",
    "v1 = {'a':5}; v2 = {'a':3, 'b':2}\n",
    "v3 = {'c':5}; v4 = {'a':2, 'b':1}\n",
    "v5 = {'a':5,'b':4}; v6 = {'a':-1, 'b':2}\n",
    "\n",
    "\n",
    "print(dot_product(v1,v2))\n",
    "print(dot_product(v3,v4))\n",
    "print(dot_product(v5,v6))"
   ]
  },
  {
   "cell_type": "markdown",
   "metadata": {},
   "source": [
    "### ex08"
   ]
  },
  {
   "cell_type": "code",
   "execution_count": 55,
   "metadata": {},
   "outputs": [
    {
     "name": "stdout",
     "output_type": "stream",
     "text": [
      "{'r': 1, 'e': 2, 'd': 1, ' ': 1, 'a': 1, 'p': 2, 'l': 1}\n",
      "p\n"
     ]
    }
   ],
   "source": [
    "def letter_dict(str):\n",
    "    d = dict()\n",
    "    for x in str:\n",
    "        if x in d:\n",
    "            d[x] += 1\n",
    "        else:\n",
    "            d[x] = 1\n",
    "    return d\n",
    "    \n",
    "def max_letter(dict):\n",
    "    res = 0\n",
    "    for k,v in dict.items():\n",
    "        if max(dict.values()) == v:\n",
    "            res = k\n",
    "    return res\n",
    "    \n",
    "a = letter_dict('red apple')\n",
    "print(a)\n",
    "print(max_letter(a))"
   ]
  },
  {
   "cell_type": "code",
   "execution_count": null,
   "metadata": {},
   "outputs": [],
   "source": []
  },
  {
   "cell_type": "code",
   "execution_count": null,
   "metadata": {},
   "outputs": [],
   "source": []
  },
  {
   "cell_type": "code",
   "execution_count": null,
   "metadata": {},
   "outputs": [],
   "source": []
  }
 ],
 "metadata": {
  "kernelspec": {
   "display_name": "Python 3",
   "language": "python",
   "name": "python3"
  },
  "language_info": {
   "codemirror_mode": {
    "name": "ipython",
    "version": 3
   },
   "file_extension": ".py",
   "mimetype": "text/x-python",
   "name": "python",
   "nbconvert_exporter": "python",
   "pygments_lexer": "ipython3",
   "version": "3.6.8"
  }
 },
 "nbformat": 4,
 "nbformat_minor": 2
}
