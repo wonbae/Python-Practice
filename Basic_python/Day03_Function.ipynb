{
 "cells": [
  {
   "cell_type": "markdown",
   "metadata": {},
   "source": [
    "# Function - Assingment"
   ]
  },
  {
   "cell_type": "markdown",
   "metadata": {},
   "source": [
    "## ex_01"
   ]
  },
  {
   "cell_type": "code",
   "execution_count": 3,
   "metadata": {},
   "outputs": [
    {
     "name": "stdout",
     "output_type": "stream",
     "text": [
      "13는 소수입니다.\n",
      "15는 소수가 아닙니다.\n",
      "2는 소수입니다.\n"
     ]
    }
   ],
   "source": [
    "prime = [2,3,5,7]\n",
    "\n",
    "def check_prime(num):\n",
    "    if num < 10:\n",
    "        for p in prime:\n",
    "            if num == 2 or num == 3 or num == 5 or num == 7:\n",
    "                return 1\n",
    "            else:\n",
    "                if num % p == 0:\n",
    "                    return 0\n",
    "                else:\n",
    "                    continue\n",
    "\n",
    "    else:\n",
    "        for bp in prime:\n",
    "            if num % bp == 0:\n",
    "                return 0\n",
    "            else:\n",
    "                continue\n",
    "    return 1\n",
    "\n",
    "\n",
    "def main():\n",
    "    a = 13\n",
    "    b = 15\n",
    "    c = 2\n",
    "\n",
    "    if check_prime(a):\n",
    "        print(str(a) + '는 소수입니다.')\n",
    "    else:\n",
    "        print(str(a) + '는 소수가 아닙니다.')\n",
    "\n",
    "    if check_prime(b):\n",
    "        print(str(b) + '는 소수입니다.')\n",
    "    else:\n",
    "        print(str(b) + '는 소수가 아닙니다.')\n",
    "        \n",
    "    if check_prime(c):\n",
    "        print(str(c) + '는 소수입니다.')\n",
    "    else:\n",
    "        print(str(c) + '는 소수가 아닙니다.')\n",
    "\n",
    "\n",
    "if __name__ == \"__main__\":\n",
    "    main()\n"
   ]
  },
  {
   "cell_type": "markdown",
   "metadata": {},
   "source": [
    "## ex_02"
   ]
  },
  {
   "cell_type": "code",
   "execution_count": 39,
   "metadata": {},
   "outputs": [
    {
     "name": "stdout",
     "output_type": "stream",
     "text": [
      "1,234\n",
      "12,345,678\n",
      "12\n"
     ]
    }
   ],
   "source": [
    "def add_comma(val):\n",
    "    a = []\n",
    "    result = \"\"\n",
    "    \n",
    "    rev = str(val)[::-1]\n",
    "    \n",
    "    for x in range(1, len(rev) + 1):\n",
    "        a.append(rev[x-1])\n",
    "        if x % 3 == 0:\n",
    "            a.append(',')\n",
    "    \n",
    "    res = a[::-1]\n",
    "    \n",
    "    for x in range(0,len(a)):\n",
    "        result += res[x]\n",
    "\n",
    "    return result\n",
    "    \n",
    "def main():\n",
    "    comma_added_1234 = add_comma(1234)\n",
    "    comma_added_12345678 = add_comma(12345678)\n",
    "    comma_added_12 = add_comma(12)\n",
    "\n",
    "    print(comma_added_1234)\n",
    "    print(comma_added_12345678)\n",
    "    print(comma_added_12)\n",
    "\n",
    "if __name__ == \"__main__\":\n",
    "    main()\n",
    "\n"
   ]
  },
  {
   "cell_type": "markdown",
   "metadata": {},
   "source": [
    "## ex_03"
   ]
  },
  {
   "cell_type": "code",
   "execution_count": 1,
   "metadata": {},
   "outputs": [
    {
     "name": "stdout",
     "output_type": "stream",
     "text": [
      "['There', 'was', 'a', 'farmer', 'who', 'had', 'a', 'dog', '.']\n",
      "[('There', 'was'), ('was', 'a'), ('a', 'farmer'), ('farmer', 'who'), ('who', 'had'), ('had', 'a'), ('a', 'dog'), ('dog', '.')]\n"
     ]
    }
   ],
   "source": [
    "def tokenize(trg, N = 1):\n",
    "    word = trg.split(' ')\n",
    "#     res = []\n",
    "#     res2 = []\n",
    "    \n",
    "    if N == 1:\n",
    "        return list(word)\n",
    "    else:\n",
    "        return list(zip(word, word[N - 1:]))\n",
    "\n",
    "#     if N == 1:\n",
    "#         return list(word)\n",
    "#     else:\n",
    "#         for i in range(len(word) - 1):\n",
    "#             res.append(word[i])\n",
    "#             res2.append(word[i + 1])\n",
    "\n",
    "#         for i in range(len(res) - 1):\n",
    "#             result.append(res[i] + ' ' + res2[i])\n",
    "   \n",
    "    \n",
    "def main():\n",
    "    a = \"There was a farmer who had a dog .\"\n",
    "    print(tokenize(a))\n",
    "    print(tokenize(a, 2))\n",
    "    \n",
    "if __name__ == \"__main__\":\n",
    "    main()"
   ]
  },
  {
   "cell_type": "markdown",
   "metadata": {},
   "source": [
    "## ex_04"
   ]
  },
  {
   "cell_type": "code",
   "execution_count": 12,
   "metadata": {},
   "outputs": [
    {
     "name": "stdout",
     "output_type": "stream",
     "text": [
      "평균 :  1.0 분산: 0.8333333333333334\n"
     ]
    }
   ],
   "source": [
    "def mean_and_var(*val):\n",
    "    tsum = 0\n",
    "    tmp = 0\n",
    "    v = 0\n",
    "    \n",
    "    for x in range(0,len(val)):\n",
    "        tsum += val[x][0]\n",
    "        tsum += val[x][1]\n",
    "        \n",
    "    avg = tsum/len(val)\n",
    "    \n",
    "    for x in range(0,len(val)):\n",
    "        tmp += pow((val[x][0] - avg),2)\n",
    "        tmp += pow((val[x][1] - avg),2)\n",
    "    v = tmp / len(val)\n",
    "    \n",
    "    return avg, v\n",
    "    \n",
    "def main():\n",
    "    v1 = (0, 1)\n",
    "    v2 = (0.5, 0.5)\n",
    "    v3 = (1, 0)\n",
    "    \n",
    "    m, var = mean_and_var(v1, v2, v3)\n",
    "    print('평균 : ', m, '분산:', var)\n",
    "    \n",
    "    \n",
    "if __name__ == \"__main__\":\n",
    "    main()"
   ]
  },
  {
   "cell_type": "code",
   "execution_count": null,
   "metadata": {},
   "outputs": [],
   "source": []
  },
  {
   "cell_type": "code",
   "execution_count": null,
   "metadata": {},
   "outputs": [],
   "source": []
  }
 ],
 "metadata": {
  "kernelspec": {
   "display_name": "Python 3",
   "language": "python",
   "name": "python3"
  },
  "language_info": {
   "codemirror_mode": {
    "name": "ipython",
    "version": 3
   },
   "file_extension": ".py",
   "mimetype": "text/x-python",
   "name": "python",
   "nbconvert_exporter": "python",
   "pygments_lexer": "ipython3",
   "version": "3.7.1"
  }
 },
 "nbformat": 4,
 "nbformat_minor": 2
}
